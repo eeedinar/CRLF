{
 "cells": [
  {
   "cell_type": "code",
   "execution_count": 1,
   "id": "330fa15a-3e90-4177-820b-8b31820829eb",
   "metadata": {},
   "outputs": [],
   "source": [
    "import pandas as pd\n",
    "import time\n",
    "import shutil\n",
    "from essential_func import *"
   ]
  },
  {
   "cell_type": "code",
   "execution_count": 4,
   "id": "98d77187-1bf0-4c91-99a7-df9cadaea8c2",
   "metadata": {},
   "outputs": [],
   "source": [
    "### setting up parameters and saving it to parameters.txt file\n",
    "audio_directory = '/Users/bashit.a/Documents/SDNHM/WAV'\n",
    "output_directory = '/Users/bashit.a/Documents/SDNHM/Codes'\n",
    "## filename  = '20211213MelingAM190000.WAV'\n",
    "sr     = 16000 ### downsample to 16k Hz\n",
    "fmax   = 8000  ### mel spectogram maximum frequency\n",
    "n_mels = 128   ### number of mels to calculate for\n",
    "dB_thr = -20   ### dB to be thresholded to\n",
    "freq_idx = 18  ### frequency to extract f[18] = 427 Hz\n",
    "n_serials = 20 ### continuous 20 time frames to be produced to get result\n",
    "block = 5      ### 5x5 block for morphological operations\n",
    "play_audio = 0 ### 0 for not playing 1 for playing\n",
    "file = open(\"parameters.txt\", \"w\")\n",
    "file.write(f'audio_directory = {audio_directory}\\noutput_directory = {output_directory}\\nsr = {sr} \\nfmax = {fmax}\\nn_mels = {n_mels}\\ndB_thr = {dB_thr}\\nfreq_idx = {freq_idx}\\nn_serials = {n_serials}\\nblock = {block}\\nplay_audio = {play_audio}')\n",
    "file.close()"
   ]
  },
  {
   "cell_type": "code",
   "execution_count": 2,
   "id": "ddcf238e-9c3c-4aee-a1af-b8fc12cd890d",
   "metadata": {},
   "outputs": [
    {
     "data": {
      "text/plain": [
       "'2022-12-28-Wednesday-20-13-13/parameters.txt'"
      ]
     },
     "execution_count": 2,
     "metadata": {},
     "output_type": "execute_result"
    }
   ],
   "source": [
    "### create folder for data output\n",
    "folder = f\"{time.strftime('%Y-%m-%d-%A-%H-%M-%S', time.localtime())}\"\n",
    "os.makedirs(folder)    \n",
    "\n",
    "### reading parameters and setting it to variables - CAN BE USED for Single file inspection\n",
    "file = open('parameters.txt','r')\n",
    "file.seek(0)\n",
    "parameters = file.readlines()\n",
    "file.close()\n",
    "for i in range(len(parameters)):\n",
    "    var, val = parameters[i].split(\"=\")[0].strip() , parameters[i].split(\"=\")[1].strip()\n",
    "    try:\n",
    "        locals()[var] = int(val)\n",
    "    except:\n",
    "        locals()[var] = val\n",
    "\n",
    "### showing plot and results\n",
    "show_plot    = False\n",
    "show_results = False\n",
    "\n",
    "### look for wav and WAV extensions in the specified directory and produce results.csv file\n",
    "files_sorted = cwd_files_search_with('.wav', directory = audio_directory)\n",
    "files_sorted.append(cwd_files_search_with('.WAV', directory = audio_directory))\n",
    "files_sorted = flatten(files_sorted)\n",
    "n = len(files_sorted)\n",
    "X = np.zeros((n,2),dtype=object)\n",
    "\n",
    "### iterate over file and do signal detection\n",
    "for idx, file in enumerate(files_sorted):\n",
    "    freq, t = signal_detection(filename = os.path.join(audio_directory, file), sr= sr, fmax=fmax, n_mels=n_mels, dB_thr=dB_thr, freq_idx=freq_idx, n_serials=n_serials, block=block, show_plot=show_plot, show_results=show_results, play_audio=play_audio )\n",
    "    X[idx,0] = file\n",
    "    X[idx,1] = t\n",
    "\n",
    "### generates results.csv and parameters to the folder\n",
    "df = pd.DataFrame(X)\n",
    "df.columns = ['File', 'Start']\n",
    "df.sort_values(by=['File'], inplace=True)\n",
    "df.to_csv(os.path.join(output_directory,folder,'results.csv'), index=False)\n",
    "shutil.copy2('parameters.txt', os.path.join(folder))     # copy parameters to the folder\n",
    "print('Analysis on frequency {freq} Hz')"
   ]
  },
  {
   "cell_type": "code",
   "execution_count": 3,
   "id": "5b656625-862d-4d0a-8c22-5cd415d521dc",
   "metadata": {
    "tags": []
   },
   "outputs": [],
   "source": [
    "### Analysis of model with the labels_copy.csv file for CRLF only\n",
    "folder = folder # folder = folder '2022-12-27-Tuesday-20-43-07'\n",
    "gnd_file = '../labels_copy.csv'\n",
    "df_col_name_category = 'Category'\n",
    "df_col_name_file = 'File'\n",
    "df_col_name_call_start = 'Start'\n",
    "frog_type = 'CRLF'\n",
    "comparison_file = 'comparison.csv'\n",
    "\n",
    "df2 = pd.read_csv(gnd_file)                     # read labels file\n",
    "df2 = df2[df2[df_col_name_category]==frog_type]              # filter only CRLF only\n",
    "df2.sort_values(by=[df_col_name_file], inplace=True)      # sort dataframe to be similar with df\n",
    "n   = len(np.unique(df2[df_col_name_file].tolist()))      # get unique files \n",
    "X = np.zeros((n,2),dtype=object)\n",
    "\n",
    "grp = df2.groupby(df_col_name_file)                       # group by file name only\n",
    "\n",
    "for idx, ng in enumerate(grp):\n",
    "    name, group = ng\n",
    "    X[idx,0] = name\n",
    "    X[idx,1] = np.array(group[df_col_name_call_start])\n",
    "    \n",
    "df = pd.read_csv(os.path.join(output_directory,folder,'results.csv'))         # read CRLF analyzed file    \n",
    "df2 = pd.DataFrame(X)\n",
    "df2.columns = [df_col_name_file, df_col_name_call_start]\n",
    "df_outer = pd.merge(df, df2, on = df_col_name_file, how=\"outer\")   # make sure all values are retained\n",
    "df_outer.columns = ['File', 'Analyzed', 'Ground']\n",
    "df_outer.to_csv(os.path.join(output_directory,folder,comparison_file), index=False,)"
   ]
  },
  {
   "cell_type": "code",
   "execution_count": 1,
   "id": "ed29ec6f-50e1-4085-9b29-8a9540c3e27f",
   "metadata": {
    "collapsed": true,
    "jupyter": {
     "outputs_hidden": true
    },
    "tags": []
   },
   "outputs": [],
   "source": [
    "def do_something(arg):\n",
    "    hr, mn, sec = arg\n",
    "    time.sleep(sec)\n",
    "    return hr, mn, sec\n",
    "\n",
    "with concurrent.futures.ProcessPoolExecutor() as executor:\n",
    "    arg = [(1,2,3),(4,5,6)]\n",
    "    results = executor.map(do_something, arg)\n",
    "\n",
    "    for result in results:\n",
    "        print(result)"
   ]
  },
  {
   "cell_type": "code",
   "execution_count": null,
   "id": "518eecd1-71cf-4cfc-8027-ac6c85349a10",
   "metadata": {
    "tags": []
   },
   "outputs": [],
   "source": [
    "from itertools import repeat\n",
    "list(repeat(3))"
   ]
  },
  {
   "cell_type": "code",
   "execution_count": 13,
   "id": "97fbc3a7-c2dc-4a61-827d-47ea25e7fc27",
   "metadata": {},
   "outputs": [
    {
     "data": {
      "text/plain": [
       "'9.12'"
      ]
     },
     "execution_count": 13,
     "metadata": {},
     "output_type": "execute_result"
    }
   ],
   "source": [
    "f = 9.123456\n",
    "f'{f:0.3}'"
   ]
  },
  {
   "cell_type": "code",
   "execution_count": null,
   "id": "6b960992-606b-435a-b41d-64bd909dcc99",
   "metadata": {},
   "outputs": [],
   "source": []
  }
 ],
 "metadata": {
  "kernelspec": {
   "display_name": "Python 3 (ipykernel)",
   "language": "python",
   "name": "python3"
  },
  "language_info": {
   "codemirror_mode": {
    "name": "ipython",
    "version": 3
   },
   "file_extension": ".py",
   "mimetype": "text/x-python",
   "name": "python",
   "nbconvert_exporter": "python",
   "pygments_lexer": "ipython3",
   "version": "3.9.15"
  }
 },
 "nbformat": 4,
 "nbformat_minor": 5
}
